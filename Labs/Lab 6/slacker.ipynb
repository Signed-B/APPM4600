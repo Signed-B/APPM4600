{
 "cells": [
  {
   "cell_type": "code",
   "execution_count": 4,
   "metadata": {},
   "outputs": [],
   "source": [
    "import numpy as np\n",
    "import math\n",
    "import time\n",
    "from numpy.linalg import inv \n",
    "from numpy.linalg import norm "
   ]
  },
  {
   "attachments": {},
   "cell_type": "markdown",
   "metadata": {},
   "source": [
    "### Q2"
   ]
  },
  {
   "cell_type": "code",
   "execution_count": 5,
   "metadata": {},
   "outputs": [],
   "source": [
    "def BeckettsSlackerNewton(evalF, evalJ, x0,tol,Nmax):\n",
    "\n",
    "    ''' Lazy Newton = use only the inverse of the Jacobian for initial guess'''\n",
    "    '''               and recompute as necessary'''\n",
    "    ''' recompute condition = difference between iterates increases'''\n",
    "    ''' inputs: x0 = initial guess, tol = tolerance, Nmax = max its'''\n",
    "    ''' Outputs: xstar= approx root, ier = error message, its = num its'''\n",
    "\n",
    "    J = evalJ(x0)\n",
    "    Jinv = inv(J)\n",
    "    perror = np.inf\n",
    "    for its in range(Nmax):\n",
    "\n",
    "        F = evalF(x0)\n",
    "        x1 = x0 - Jinv.dot(F)\n",
    "        \n",
    "        if (norm(x1-x0) < tol):\n",
    "            xstar = x1\n",
    "            ier =0\n",
    "            return[xstar, ier,its]\n",
    "        \n",
    "        if (norm(x1-x0) > perror):\n",
    "            J = evalJ(x1)\n",
    "            Jinv = inv(J)\n",
    "\n",
    "        perror = norm(x1-x0)\n",
    "        x0 = x1\n",
    "\n",
    "    xstar = x1\n",
    "    ier = 1\n",
    "    return[xstar,ier,its]   "
   ]
  },
  {
   "attachments": {},
   "cell_type": "markdown",
   "metadata": {},
   "source": [
    "### Q3"
   ]
  },
  {
   "cell_type": "code",
   "execution_count": 6,
   "metadata": {},
   "outputs": [],
   "source": [
    "def evalF(x):\n",
    "    return np.array([\n",
    "        4*(x[0]**2) + x[1]**2 - 4,\n",
    "        x[0] + x[1] - np.sin(x[0] - x[1])\n",
    "    ])\n",
    "\n",
    "def evalJ(x):\n",
    "    return np.array([[8*x[0], 2*x[1]], \n",
    "                     [1 - np.cos(x[0] - x[1]), 1 + np.cos(x[0] - x[1])]])"
   ]
  },
  {
   "cell_type": "code",
   "execution_count": 7,
   "metadata": {},
   "outputs": [
    {
     "data": {
      "text/plain": [
       "[array([ 0.99860694, -0.10553049]), 0, 7]"
      ]
     },
     "execution_count": 7,
     "metadata": {},
     "output_type": "execute_result"
    }
   ],
   "source": [
    "BeckettsSlackerNewton(evalF, evalJ, np.array([1,0]), 1e-10, 1000)"
   ]
  },
  {
   "attachments": {},
   "cell_type": "markdown",
   "metadata": {},
   "source": [
    "### Q4"
   ]
  },
  {
   "cell_type": "code",
   "execution_count": 9,
   "metadata": {},
   "outputs": [
    {
     "data": {
      "text/plain": [
       "[array([ 0.49999052,  0.01441216, -0.52323977]), 0, 22]"
      ]
     },
     "execution_count": 9,
     "metadata": {},
     "output_type": "execute_result"
    }
   ],
   "source": [
    "from newtonNONLinear import evalF as evalClassF, evalJ as evalClassJ\n",
    "\n",
    "x0 = np.array([0.1, 0.1, -0.1])\n",
    "Nmax = 100\n",
    "tol = 1e-10\n",
    "\n",
    "BeckettsSlackerNewton(evalClassF, evalClassJ, x0, tol, Nmax)"
   ]
  }
 ],
 "metadata": {
  "kernelspec": {
   "display_name": "base",
   "language": "python",
   "name": "python3"
  },
  "language_info": {
   "codemirror_mode": {
    "name": "ipython",
    "version": 3
   },
   "file_extension": ".py",
   "mimetype": "text/x-python",
   "name": "python",
   "nbconvert_exporter": "python",
   "pygments_lexer": "ipython3",
   "version": "3.9.13"
  },
  "orig_nbformat": 4
 },
 "nbformat": 4,
 "nbformat_minor": 2
}
