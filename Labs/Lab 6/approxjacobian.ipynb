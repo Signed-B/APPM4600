{
 "cells": [
  {
   "cell_type": "code",
   "execution_count": 2,
   "metadata": {},
   "outputs": [],
   "source": [
    "import numpy as np\n",
    "import math\n",
    "import time\n",
    "from numpy.linalg import inv \n",
    "from numpy.linalg import norm "
   ]
  },
  {
   "attachments": {},
   "cell_type": "markdown",
   "metadata": {},
   "source": [
    "### Q1"
   ]
  },
  {
   "cell_type": "code",
   "execution_count": 3,
   "metadata": {},
   "outputs": [],
   "source": [
    "def evalJ(evalF, x, h):\n",
    "    n = len(x)\n",
    "    m = len(evalF(x))\n",
    "    J = np.zeros((m,n))\n",
    "    xhp = x.copy()\n",
    "    xhm = x.copy()\n",
    "    print(h)\n",
    "    for i in range(n):\n",
    "        xhp[i] = xhp[i] + h\n",
    "        xhm[i] = xhm[i] - h\n",
    "        J[:,i] = (evalF(xhp) - evalF(xhm))/(2*h)\n",
    "    return J"
   ]
  },
  {
   "cell_type": "code",
   "execution_count": 4,
   "metadata": {},
   "outputs": [],
   "source": [
    "def Newton(evalF, x0,tol,Nmax,hfactor):\n",
    "\n",
    "    ''' inputs: x0 = initial guess, tol = tolerance, Nmax = max its'''\n",
    "    ''' Outputs: xstar= approx root, ier = error message, its = num its'''\n",
    "\n",
    "    for its in range(Nmax):\n",
    "       J = evalJ(evalF, x0, hfactor*norm(x0))\n",
    "       Jinv = inv(J)\n",
    "       F = evalF(x0)\n",
    "       \n",
    "       x1 = x0 - Jinv.dot(F)\n",
    "       \n",
    "       if (norm(x1-x0) < tol):\n",
    "           xstar = x1\n",
    "           ier =0\n",
    "           return[xstar, ier, its]\n",
    "           \n",
    "       x0 = x1\n",
    "    \n",
    "    xstar = x1\n",
    "    ier = 1\n",
    "    return[xstar,ier,its]\n",
    "           \n",
    "def LazyNewton(evalF, x0,tol,Nmax,hfactor):\n",
    "\n",
    "    ''' Lazy Newton = use only the inverse of the Jacobian for initial guess'''\n",
    "    ''' inputs: x0 = initial guess, tol = tolerance, Nmax = max its'''\n",
    "    ''' Outputs: xstar= approx root, ier = error message, its = num its'''\n",
    "\n",
    "    J = evalJ(evalF, x0, hfactor*norm(x0))\n",
    "    Jinv = inv(J)\n",
    "    for its in range(Nmax):\n",
    "\n",
    "       F = evalF(x0)\n",
    "       x1 = x0 - Jinv.dot(F)\n",
    "       \n",
    "       if (norm(x1-x0) < tol):\n",
    "           xstar = x1\n",
    "           ier =0\n",
    "           return[xstar, ier,its]\n",
    "           \n",
    "       x0 = x1\n",
    "    \n",
    "    xstar = x1\n",
    "    ier = 1\n",
    "    return[xstar,ier,its]   \n",
    "\n",
    "def BeckettsSlackerNewton(evalF, x0,tol,Nmax,hfactor):\n",
    "\n",
    "    ''' Lazy Newton = use only the inverse of the Jacobian for initial guess'''\n",
    "    '''               and recompute as necessary'''\n",
    "    ''' recompute condition = difference between iterates increases'''\n",
    "    ''' inputs: x0 = initial guess, tol = tolerance, Nmax = max its'''\n",
    "    ''' Outputs: xstar= approx root, ier = error message, its = num its'''\n",
    "\n",
    "    J = evalJ(evalF, x0, hfactor*norm(x0))\n",
    "    Jinv = inv(J)\n",
    "    perror = np.inf\n",
    "    for its in range(Nmax):\n",
    "\n",
    "        F = evalF(x0)\n",
    "        x1 = x0 - Jinv.dot(F)\n",
    "        \n",
    "        if (norm(x1-x0) < tol):\n",
    "            xstar = x1\n",
    "            ier =0\n",
    "            return[xstar, ier,its]\n",
    "        \n",
    "        if (norm(x1-x0) > perror):\n",
    "            J = evalJ(evalF, x1, hfactor*norm(x1))\n",
    "            Jinv = inv(J)\n",
    "\n",
    "        perror = norm(x1-x0)\n",
    "        x0 = x1\n",
    "\n",
    "    xstar = x1\n",
    "    ier = 1\n",
    "    return[xstar,ier,its]   "
   ]
  },
  {
   "attachments": {},
   "cell_type": "markdown",
   "metadata": {},
   "source": [
    "### Q2"
   ]
  },
  {
   "cell_type": "code",
   "execution_count": 5,
   "metadata": {},
   "outputs": [],
   "source": [
    "def evalF(x):\n",
    "    return np.array([\n",
    "        4*(x[0]**2) + x[1]**2 - 4,\n",
    "        x[0] + x[1] - np.sin(x[0] - x[1])\n",
    "    ])"
   ]
  },
  {
   "cell_type": "code",
   "execution_count": 6,
   "metadata": {},
   "outputs": [
    {
     "name": "stdout",
     "output_type": "stream",
     "text": [
      "1.000000005e-07\n",
      "1.1078092510750727e-07\n",
      "1.010433581407538e-07\n",
      "1.005343301849088e-07\n",
      "1.0041687051398517e-07\n",
      "1.0041677345514512e-07\n",
      "1.0041675724712633e-07\n"
     ]
    },
    {
     "data": {
      "text/plain": [
       "[array([ 0.99860694, -0.10553049]), 0, 6]"
      ]
     },
     "execution_count": 6,
     "metadata": {},
     "output_type": "execute_result"
    }
   ],
   "source": [
    "Newton(evalF, np.array([1,0.0001]), 1e-10, 1000, 1e-7) # Note, didn't start on [1,0] due to singular jacobian."
   ]
  },
  {
   "cell_type": "code",
   "execution_count": 7,
   "metadata": {},
   "outputs": [
    {
     "name": "stdout",
     "output_type": "stream",
     "text": [
      "1.000000005e-07\n"
     ]
    },
    {
     "data": {
      "text/plain": [
       "[array([ 0.99860694, -0.10553049]), 0, 16]"
      ]
     },
     "execution_count": 7,
     "metadata": {},
     "output_type": "execute_result"
    }
   ],
   "source": [
    "LazyNewton(evalF, np.array([1,0.0001]), 1e-10, 1000, 1e-7)"
   ]
  },
  {
   "cell_type": "code",
   "execution_count": 8,
   "metadata": {},
   "outputs": [
    {
     "name": "stdout",
     "output_type": "stream",
     "text": [
      "1.000000005e-07\n"
     ]
    },
    {
     "data": {
      "text/plain": [
       "[array([ 0.99860694, -0.10553049]), 0, 16]"
      ]
     },
     "execution_count": 8,
     "metadata": {},
     "output_type": "execute_result"
    }
   ],
   "source": [
    "BeckettsSlackerNewton(evalF, np.array([1,0.0001]), 1e-10, 1000, 1e-7)"
   ]
  },
  {
   "cell_type": "code",
   "execution_count": 9,
   "metadata": {},
   "outputs": [
    {
     "name": "stdout",
     "output_type": "stream",
     "text": [
      "0.001000000005\n",
      "0.0011078092577002513\n",
      "0.001010433569797461\n",
      "0.0010053433072169686\n",
      "0.0010041687053224254\n",
      "0.0010041677346135378\n",
      "0.0010041675724713056\n"
     ]
    },
    {
     "data": {
      "text/plain": [
       "[array([ 0.99860694, -0.10553049]), 0, 6]"
      ]
     },
     "execution_count": 9,
     "metadata": {},
     "output_type": "execute_result"
    }
   ],
   "source": [
    "Newton(evalF, np.array([1,0.0001]), 1e-10, 1000, 1e-3) # Note, didn't start on [1,0] due to singular jacobian."
   ]
  },
  {
   "cell_type": "code",
   "execution_count": 10,
   "metadata": {},
   "outputs": [
    {
     "name": "stdout",
     "output_type": "stream",
     "text": [
      "0.001000000005\n"
     ]
    },
    {
     "data": {
      "text/plain": [
       "[array([ 0.99860694, -0.10553049]), 0, 16]"
      ]
     },
     "execution_count": 10,
     "metadata": {},
     "output_type": "execute_result"
    }
   ],
   "source": [
    "BeckettsSlackerNewton(evalF, np.array([1,0.0001]), 1e-10, 1000, 1e-3)"
   ]
  },
  {
   "cell_type": "code",
   "execution_count": 11,
   "metadata": {},
   "outputs": [
    {
     "name": "stdout",
     "output_type": "stream",
     "text": [
      "0.001000000005\n"
     ]
    },
    {
     "data": {
      "text/plain": [
       "[array([ 0.99860694, -0.10553049]), 0, 16]"
      ]
     },
     "execution_count": 11,
     "metadata": {},
     "output_type": "execute_result"
    }
   ],
   "source": [
    "BeckettsSlackerNewton(evalF, np.array([1,0.0001]), 1e-10, 1000, 1e-3)"
   ]
  },
  {
   "cell_type": "code",
   "execution_count": 13,
   "metadata": {},
   "outputs": [
    {
     "name": "stdout",
     "output_type": "stream",
     "text": [
      "1.7320508075688775e-08\n",
      "1.359055484388628e-07\n"
     ]
    },
    {
     "data": {
      "text/plain": [
       "[array([ 0.49786422, -0.21401773, -0.52922055]), 0, 21]"
      ]
     },
     "execution_count": 13,
     "metadata": {},
     "output_type": "execute_result"
    }
   ],
   "source": [
    "from newtonNONLinear import evalF as evalClassF, evalJ as evalClassJ\n",
    "\n",
    "x0 = np.array([0.1, 0.1, -0.1])\n",
    "Nmax = 100\n",
    "tol = 1e-10\n",
    "\n",
    "BeckettsSlackerNewton(evalClassF, x0, tol, Nmax, 1e-7)"
   ]
  }
 ],
 "metadata": {
  "kernelspec": {
   "display_name": "base",
   "language": "python",
   "name": "python3"
  },
  "language_info": {
   "codemirror_mode": {
    "name": "ipython",
    "version": 3
   },
   "file_extension": ".py",
   "mimetype": "text/x-python",
   "name": "python",
   "nbconvert_exporter": "python",
   "pygments_lexer": "ipython3",
   "version": "3.9.13"
  },
  "orig_nbformat": 4
 },
 "nbformat": 4,
 "nbformat_minor": 2
}
