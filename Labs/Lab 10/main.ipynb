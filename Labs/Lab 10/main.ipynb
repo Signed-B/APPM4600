{
 "cells": [
  {
   "cell_type": "code",
   "execution_count": 2,
   "metadata": {},
   "outputs": [],
   "source": [
    "# compare output to scipy's legendre\n",
    "from legendre import eval_legendre\n",
    "from scipy.special import legendre\n",
    "import numpy as np\n",
    "\n",
    "# test\n",
    "n = 5\n",
    "x = 0.5\n",
    "assert np.isclose(eval_legendre(n, x)[-1], legendre(n)(x))\n",
    "\n",
    "# test\n",
    "n = 10\n",
    "x = 0.1\n",
    "assert np.isclose(eval_legendre(n, x)[-1], legendre(n)(x))\n",
    "\n",
    "# test\n",
    "n = 15\n",
    "x = 0.9\n",
    "assert np.isclose(eval_legendre(n, x)[-1], legendre(n)(x))"
   ]
  }
 ],
 "metadata": {
  "kernelspec": {
   "display_name": "base",
   "language": "python",
   "name": "python3"
  },
  "language_info": {
   "codemirror_mode": {
    "name": "ipython",
    "version": 3
   },
   "file_extension": ".py",
   "mimetype": "text/x-python",
   "name": "python",
   "nbconvert_exporter": "python",
   "pygments_lexer": "ipython3",
   "version": "3.9.13"
  },
  "orig_nbformat": 4
 },
 "nbformat": 4,
 "nbformat_minor": 2
}
