{
 "cells": [
  {
   "attachments": {},
   "cell_type": "markdown",
   "metadata": {},
   "source": [
    "### Pre-lab"
   ]
  },
  {
   "cell_type": "code",
   "execution_count": 2,
   "metadata": {},
   "outputs": [],
   "source": [
    "# compare output to scipy's legendre\n",
    "from legendre import eval_legendre\n",
    "from scipy.special import legendre\n",
    "import numpy as np\n",
    "\n",
    "# test\n",
    "n = 5\n",
    "x = 0.5\n",
    "assert np.isclose(eval_legendre(n, x)[-1], legendre(n)(x))\n",
    "\n",
    "# test\n",
    "n = 10\n",
    "x = 0.1\n",
    "assert np.isclose(eval_legendre(n, x)[-1], legendre(n)(x))\n",
    "\n",
    "# test\n",
    "n = 15\n",
    "x = 0.9\n",
    "assert np.isclose(eval_legendre(n, x)[-1], legendre(n)(x))"
   ]
  },
  {
   "attachments": {},
   "cell_type": "markdown",
   "metadata": {},
   "source": [
    "### Lab"
   ]
  },
  {
   "cell_type": "code",
   "execution_count": null,
   "metadata": {},
   "outputs": [],
   "source": [
    "from scipy.integrate import quad\n",
    "\n",
    "# generate a_j coefficients for legendre phi specifically\n",
    "def numerator_function(f, j, w):\n",
    "    return eval_legendre(j, x)[-1] * f(x) * w(x)\n",
    "\n",
    "def denominator_function(j, w):\n",
    "    return eval_legendre(j, x)[-1]**2 * w(x)\n",
    "\n",
    "def generate_coefficients(f, n, w):\n",
    "    a = []\n",
    "    for j in range(n + 1):\n",
    "        numerator = quad(numerator_function, -1, 1, args=(j, w))[0]\n",
    "        denominator = quad(denominator_function, -1, 1, args=(j, w))[0]\n",
    "        a.append(numerator / denominator)\n",
    "    return a\n",
    "\n",
    "# generate a_j coefficient for arbitrary phi\n",
    "def numerator_function(f, phi_j, w):\n",
    "    return f(x) * phi_j(x) * w(x)\n",
    "\n",
    "def denominator_function(phi_j, w):\n",
    "    return phi_j(x)**2 * w(x)\n",
    "\n",
    "def generate_coefficient(f, phi_j, w):\n",
    "    numerator = quad(numerator_function, -1, 1, args=(phi_j, w))[0]\n",
    "    denominator = quad(denominator_function, -1, 1, args=(phi_j, w))[0]\n",
    "    return numerator / denominator\n"
   ]
  },
  {
   "cell_type": "code",
   "execution_count": null,
   "metadata": {},
   "outputs": [],
   "source": [
    "import matplotlib.pyplot as plt\n",
    "import numpy as np\n",
    "import numpy.linalg as la\n",
    "import math\n",
    "from scipy.integrate import quad\n"
   ]
  },
  {
   "cell_type": "code",
   "execution_count": null,
   "metadata": {},
   "outputs": [],
   "source": [
    "def eval_legendre_expansion(f,a,b,w,n,x):\n",
    "    # This subroutine evaluates the Legendre expansion\n",
    "    # Evaluate all the Legendre polynomials at x that are needed\n",
    "    # by calling your code from prelab\n",
    "    p = ... # TODO last thing for this function is this p list.\n",
    "    # initialize the sum to 0\n",
    "    pval = 0.0\n",
    "    for j in range(0,n+1):\n",
    "        # make a function handle for evaluating phi_j(x)\n",
    "        phi_j = lambda x: eval_legendre(j,x)[-1]\n",
    "        # make a function handle for evaluating phi_j^2(x)*w(x)\n",
    "        phi_j_sq = lambda x: phi_j(x)**2*w(x)\n",
    "        # use the quad function from scipy to evaluate normalizations\n",
    "        norm_fac,err = quad(phi_j_sq,a,b)\n",
    "        # make a function handle for phi_j(x)*f(x)*w(x)/norm_fac\n",
    "        func_j = lambda x: phi_j(x)*f(x)*w(x)/norm_fac\n",
    "        # use the quad function from scipy to evaluate coeffs\n",
    "        aj,err = quad(func_j,a,b)\n",
    "        # accumulate into pval\n",
    "        pval = pval+aj*p[j]\n",
    "    return pval"
   ]
  },
  {
   "cell_type": "code",
   "execution_count": null,
   "metadata": {},
   "outputs": [],
   "source": [
    "# function you want to approximate\n",
    "f = lambda x: math.exp(x)\n",
    "# Interval of interest\n",
    "a = -1\n",
    "b = 1\n",
    "# weight function\n",
    "w = lambda x: 1.\n",
    "# order of approximation\n",
    "n = 2\n",
    "# Number of points you want to sample in [a,b]\n",
    "N = 1000\n",
    "xeval = np.linspace(a,b,N+1)\n",
    "pval = np.zeros(N+1)\n",
    "for kk in range(N+1):\n",
    "    pval[kk] = eval_legendre_expansion(f,a,b,w,n,xeval[kk])\n",
    "''' create vector with exact values'''\n",
    "fex = np.zeros(N+1)\n",
    "for kk in range(N+1):\n",
    "    fex[kk] = f(xeval[kk])\n",
    "plt.figure()\n",
    "plt.plot(xeval,fex,'ro-', label= 'f(x)')\n",
    "plt.plot(xeval,pval,'bs--',label= 'Expansion')\n",
    "plt.legend()\n",
    "plt.show()"
   ]
  }
 ],
 "metadata": {
  "kernelspec": {
   "display_name": "base",
   "language": "python",
   "name": "python3"
  },
  "language_info": {
   "codemirror_mode": {
    "name": "ipython",
    "version": 3
   },
   "file_extension": ".py",
   "mimetype": "text/x-python",
   "name": "python",
   "nbconvert_exporter": "python",
   "pygments_lexer": "ipython3",
   "version": "3.9.13"
  },
  "orig_nbformat": 4
 },
 "nbformat": 4,
 "nbformat_minor": 2
}
