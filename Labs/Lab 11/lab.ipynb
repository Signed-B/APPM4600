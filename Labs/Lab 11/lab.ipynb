{
 "cells": [
  {
   "cell_type": "code",
   "execution_count": 1,
   "metadata": {},
   "outputs": [],
   "source": [
    "import numpy as np\n",
    "import numpy.linalg as la\n",
    "from adaptive_quad import *\n",
    "# from gauss_legendre import *"
   ]
  },
  {
   "cell_type": "code",
   "execution_count": 2,
   "metadata": {},
   "outputs": [],
   "source": [
    "n = 5\n",
    "\n",
    "trap = lambda f, a, b, tol: adaptive_quad(a, b, f, tol, n, eval_composite_trap)\n",
    "simp = lambda f, a, b, tol: adaptive_quad(a, b, f, tol, n, eval_composite_simpsons)\n",
    "gauss = lambda f, a, b, tol: adaptive_quad(a, b, f, tol, n, eval_gauss_quad)\n",
    "\n",
    "f = lambda x: np.sin(1/x)\n",
    "a = 0.1\n",
    "b = 2\n",
    "tol = 1e-3"
   ]
  },
  {
   "cell_type": "code",
   "execution_count": 4,
   "metadata": {},
   "outputs": [
    {
     "name": "stdout",
     "output_type": "stream",
     "text": [
      "Composite Trapezoidal: 1.1453764121229983 with 9 evaluations\n",
      "Composite Simpson's: 1.1455955146249206 with 6 evaluations\n",
      "Gauss Quadrature: 1.1455813847154854 with 5 evaluations\n"
     ]
    }
   ],
   "source": [
    "Itrap, _, ntrap = trap(f, a, b, tol)\n",
    "Isimp, _, nsimp = simp(f, a, b, tol)\n",
    "Igauss, _, ngauss = gauss(f, a, b, tol)\n",
    "\n",
    "print(f\"Composite Trapezoidal: {Itrap} with {ntrap} evaluations\")\n",
    "print(f\"Composite Simpson's: {Isimp} with {nsimp} evaluations\")\n",
    "print(f\"Gauss Quadrature: {Igauss} with {ngauss} evaluations\")"
   ]
  }
 ],
 "metadata": {
  "kernelspec": {
   "display_name": "base",
   "language": "python",
   "name": "python3"
  },
  "language_info": {
   "codemirror_mode": {
    "name": "ipython",
    "version": 3
   },
   "file_extension": ".py",
   "mimetype": "text/x-python",
   "name": "python",
   "nbconvert_exporter": "python",
   "pygments_lexer": "ipython3",
   "version": "3.9.13"
  },
  "orig_nbformat": 4
 },
 "nbformat": 4,
 "nbformat_minor": 2
}
