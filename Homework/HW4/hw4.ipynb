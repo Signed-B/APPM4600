{
 "cells": [
  {
   "cell_type": "code",
   "execution_count": 1,
   "metadata": {},
   "outputs": [],
   "source": [
    "import numpy as np\n",
    "import matplotlib.pyplot as plt"
   ]
  },
  {
   "attachments": {},
   "cell_type": "markdown",
   "metadata": {},
   "source": [
    "### Q1"
   ]
  },
  {
   "cell_type": "code",
   "execution_count": 14,
   "metadata": {},
   "outputs": [
    {
     "name": "stdout",
     "output_type": "stream",
     "text": [
      "[0.5       0.8660254]\n",
      "33\n"
     ]
    }
   ],
   "source": [
    "f = lambda x,y: 3*x**2 - y**2\n",
    "g = lambda x,y: 3*x*y**2-x**3-1\n",
    "\n",
    "x0 = np.array([1,1])\n",
    "\n",
    "for i in range(100):\n",
    "    x1 = x0 - np.dot(np.array([[1/6, 1/18],[0, 1/6]]), np.array([f(x0[0],x0[1]), g(x0[0],x0[1])]))\n",
    "    if np.linalg.norm(x1-x0) < 1e-10:\n",
    "        break\n",
    "    x0 = x1\n",
    "\n",
    "print(x0)\n",
    "print(i)"
   ]
  },
  {
   "attachments": {},
   "cell_type": "markdown",
   "metadata": {},
   "source": [
    "Using newton's:"
   ]
  },
  {
   "cell_type": "code",
   "execution_count": 12,
   "metadata": {},
   "outputs": [
    {
     "name": "stdout",
     "output_type": "stream",
     "text": [
      "r =  [0.5       0.8660254] nf =  7 nj =  6\n"
     ]
    }
   ],
   "source": [
    "from newton_and_quasinewton_script import newton_method_nd\n",
    "\n",
    "f = lambda x: np.array([3*x[0]**2 - x[1]**2, 3*x[0]*x[1]**2-x[0]**3-1])\n",
    "Jf = lambda x: np.array([[6*x[0], -2*x[1]], [3*x[1]**2-3*x[0]**2, 6*x[0]*x[1]]])\n",
    "x0 = np.array([1,1])\n",
    "\n",
    "r, rn, nf, nj = newton_method_nd(f, Jf, x0, 1e-10, 100)\n",
    "\n",
    "print(\"r = \", r, \"nf = \", nf, \"nj = \", nj)\n"
   ]
  },
  {
   "attachments": {},
   "cell_type": "markdown",
   "metadata": {},
   "source": [
    "### Q2"
   ]
  },
  {
   "cell_type": "code",
   "execution_count": 56,
   "metadata": {},
   "outputs": [
    {
     "name": "stdout",
     "output_type": "stream",
     "text": [
      "Broyden Id: r =  [-1.81626407  0.8373678 ] nf =  22\n"
     ]
    }
   ],
   "source": [
    "from newton_and_quasinewton_script import lazy_newton_method_nd, broyden_method_nd\n",
    "\n",
    "f = lambda x: np.array([x[0]**2 + x[1]**2 - 4, np.exp(x[0]) + x[1] - 1])\n",
    "Jf = lambda x: np.array([[2*x[0], 2*x[1]], [np.exp(x[0]), 1]])\n",
    "Jfinv = lambda x: np.linalg.inv(Jf(x))\n",
    "\n",
    "x0 = np.array([0,0])\n",
    "# r, _, nf, nj = newton_method_nd(f, Jf, x0, 1e-10, 100)\n",
    "# print(\"Newton: r = \", r, \"nf = \", nf, \"nj = \", nj)\n",
    "# r, _, nf, nj = lazy_newton_method_nd(f, Jf, x0, 1e-10, 100, verb=True)\n",
    "# print(\"Lazy: r = \", r, \"nf = \", nf, \"nj = \", nj)\n",
    "# r, _, nf = broyden_method_nd(f, Jf(x0), x0, 1e-10, 100, Bmat='fwd', verb=True)\n",
    "# print(\"Broyden fwd: r = \", r, \"nf = \", nf)\n",
    "# r, _, nf = broyden_method_nd(f, Jfinv(x0), x0, 1e-10, 100, Bmat='inv')\n",
    "# print(\"Broyden inv: r = \", r, \"nf = \", nf)\n",
    "r, _, nf = broyden_method_nd(f, np.eye(2), x0, 1e-10, 100, Bmat='Id')\n",
    "print(\"Broyden Id: r = \", r, \"nf = \", nf)"
   ]
  },
  {
   "attachments": {},
   "cell_type": "markdown",
   "metadata": {},
   "source": [
    "### Q3"
   ]
  },
  {
   "cell_type": "code",
   "execution_count": 62,
   "metadata": {},
   "outputs": [
    {
     "name": "stdout",
     "output_type": "stream",
     "text": [
      "|--n--|----xn----|---|f(xn)|---|\n",
      "|--0--|1.7320508|1.0509170|\n",
      "|--1--|2.5197297|1.4713003|\n",
      "|--2--|2.9529246|1.7420049|\n",
      "|--3--|2.7732942|1.5293073|\n",
      "|--4--|2.7686650|1.5240887|\n",
      "|--5--|2.7686634|1.5240865|\n",
      "Newton method failed to converge, n=100, |F(xn)|=1.5e+00\n",
      "\n",
      "Newton: r =  [1.        2.5044169 0.6272104] nf =  7 nj =  6\n",
      "|--n--|-alpha-|----|xn|----|---|f(xn)|---|---|Gf(xn)|---|\n"
     ]
    },
    {
     "name": "stderr",
     "output_type": "stream",
     "text": [
      "/tmp/ipykernel_816835/2626037864.py:10: RuntimeWarning: divide by zero encountered in power\n",
      "  [-0.25*np.power(1-x[0], -.75), 1, 0.1*x[2]],\n"
     ]
    },
    {
     "ename": "TypeError",
     "evalue": "only size-1 arrays can be converted to Python scalars",
     "output_type": "error",
     "traceback": [
      "\u001b[0;31m---------------------------------------------------------------------------\u001b[0m",
      "\u001b[0;31mTypeError\u001b[0m                                 Traceback (most recent call last)",
      "\u001b[0;32m/tmp/ipykernel_816835/2626037864.py\u001b[0m in \u001b[0;36m<module>\u001b[0;34m\u001b[0m\n\u001b[1;32m     18\u001b[0m \u001b[0mr\u001b[0m\u001b[0;34m,\u001b[0m \u001b[0m_\u001b[0m\u001b[0;34m,\u001b[0m \u001b[0mnf\u001b[0m\u001b[0;34m,\u001b[0m \u001b[0mnj\u001b[0m \u001b[0;34m=\u001b[0m \u001b[0mnewton_method_nd\u001b[0m\u001b[0;34m(\u001b[0m\u001b[0mf\u001b[0m\u001b[0;34m,\u001b[0m \u001b[0mJf\u001b[0m\u001b[0;34m,\u001b[0m \u001b[0mx0\u001b[0m\u001b[0;34m,\u001b[0m \u001b[0;36m1e-6\u001b[0m\u001b[0;34m,\u001b[0m \u001b[0;36m100\u001b[0m\u001b[0;34m,\u001b[0m \u001b[0mverb\u001b[0m\u001b[0;34m=\u001b[0m\u001b[0;32mTrue\u001b[0m\u001b[0;34m)\u001b[0m\u001b[0;34m\u001b[0m\u001b[0;34m\u001b[0m\u001b[0m\n\u001b[1;32m     19\u001b[0m \u001b[0mprint\u001b[0m\u001b[0;34m(\u001b[0m\u001b[0;34m\"Newton: r = \"\u001b[0m\u001b[0;34m,\u001b[0m \u001b[0mr\u001b[0m\u001b[0;34m,\u001b[0m \u001b[0;34m\"nf = \"\u001b[0m\u001b[0;34m,\u001b[0m \u001b[0mnf\u001b[0m\u001b[0;34m,\u001b[0m \u001b[0;34m\"nj = \"\u001b[0m\u001b[0;34m,\u001b[0m \u001b[0mnj\u001b[0m\u001b[0;34m)\u001b[0m\u001b[0;34m\u001b[0m\u001b[0;34m\u001b[0m\u001b[0m\n\u001b[0;32m---> 20\u001b[0;31m \u001b[0mr\u001b[0m\u001b[0;34m,\u001b[0m \u001b[0m_\u001b[0m\u001b[0;34m,\u001b[0m \u001b[0mnf\u001b[0m\u001b[0;34m,\u001b[0m \u001b[0mng\u001b[0m \u001b[0;34m=\u001b[0m \u001b[0msteepest_descent\u001b[0m\u001b[0;34m(\u001b[0m\u001b[0mf\u001b[0m\u001b[0;34m,\u001b[0m \u001b[0mJf\u001b[0m\u001b[0;34m,\u001b[0m \u001b[0mx0\u001b[0m\u001b[0;34m,\u001b[0m \u001b[0;36m1e-6\u001b[0m\u001b[0;34m,\u001b[0m \u001b[0;36m100\u001b[0m\u001b[0;34m,\u001b[0m \u001b[0mverb\u001b[0m\u001b[0;34m=\u001b[0m\u001b[0;32mTrue\u001b[0m\u001b[0;34m)\u001b[0m\u001b[0;34m\u001b[0m\u001b[0;34m\u001b[0m\u001b[0m\n\u001b[0m\u001b[1;32m     21\u001b[0m \u001b[0mprint\u001b[0m\u001b[0;34m(\u001b[0m\u001b[0;34m\"Steepest: r = \"\u001b[0m\u001b[0;34m,\u001b[0m \u001b[0mr\u001b[0m\u001b[0;34m,\u001b[0m \u001b[0;34m\"nf = \"\u001b[0m\u001b[0;34m,\u001b[0m \u001b[0mnf\u001b[0m\u001b[0;34m,\u001b[0m \u001b[0;34m\"ng = \"\u001b[0m\u001b[0;34m,\u001b[0m \u001b[0mng\u001b[0m\u001b[0;34m)\u001b[0m\u001b[0;34m\u001b[0m\u001b[0;34m\u001b[0m\u001b[0m\n",
      "\u001b[0;32m~/Documents/classes/APPM4600/Homework/HW4/steepest_descent_script2.py\u001b[0m in \u001b[0;36msteepest_descent\u001b[0;34m(f, Gf, x0, tol, nmax, type, verb)\u001b[0m\n\u001b[1;32m    185\u001b[0m     \u001b[0;32mwhile\u001b[0m \u001b[0mn\u001b[0m\u001b[0;34m<=\u001b[0m\u001b[0mnmax\u001b[0m \u001b[0;32mand\u001b[0m \u001b[0mnp\u001b[0m\u001b[0;34m.\u001b[0m\u001b[0mlinalg\u001b[0m\u001b[0;34m.\u001b[0m\u001b[0mnorm\u001b[0m\u001b[0;34m(\u001b[0m\u001b[0mpn\u001b[0m\u001b[0;34m)\u001b[0m\u001b[0;34m>\u001b[0m\u001b[0mtol\u001b[0m\u001b[0;34m:\u001b[0m\u001b[0;34m\u001b[0m\u001b[0;34m\u001b[0m\u001b[0m\n\u001b[1;32m    186\u001b[0m         \u001b[0;32mif\u001b[0m \u001b[0mverb\u001b[0m\u001b[0;34m:\u001b[0m\u001b[0;34m\u001b[0m\u001b[0;34m\u001b[0m\u001b[0m\n\u001b[0;32m--> 187\u001b[0;31m             \u001b[0mprint\u001b[0m\u001b[0;34m(\u001b[0m\u001b[0;34m\"|--%d--|%1.5f|%1.7f|%1.7f|%1.7f|\"\u001b[0m \u001b[0;34m%\u001b[0m\u001b[0;34m(\u001b[0m\u001b[0mn\u001b[0m\u001b[0;34m,\u001b[0m\u001b[0malpha\u001b[0m\u001b[0;34m,\u001b[0m\u001b[0mnp\u001b[0m\u001b[0;34m.\u001b[0m\u001b[0mlinalg\u001b[0m\u001b[0;34m.\u001b[0m\u001b[0mnorm\u001b[0m\u001b[0;34m(\u001b[0m\u001b[0mxn\u001b[0m\u001b[0;34m)\u001b[0m\u001b[0;34m,\u001b[0m\u001b[0mnp\u001b[0m\u001b[0;34m.\u001b[0m\u001b[0mabs\u001b[0m\u001b[0;34m(\u001b[0m\u001b[0mfn\u001b[0m\u001b[0;34m)\u001b[0m\u001b[0;34m,\u001b[0m\u001b[0mnp\u001b[0m\u001b[0;34m.\u001b[0m\u001b[0mlinalg\u001b[0m\u001b[0;34m.\u001b[0m\u001b[0mnorm\u001b[0m\u001b[0;34m(\u001b[0m\u001b[0mpn\u001b[0m\u001b[0;34m)\u001b[0m\u001b[0;34m)\u001b[0m\u001b[0;34m)\u001b[0m\u001b[0;34m;\u001b[0m\u001b[0;34m\u001b[0m\u001b[0;34m\u001b[0m\u001b[0m\n\u001b[0m\u001b[1;32m    188\u001b[0m \u001b[0;34m\u001b[0m\u001b[0m\n\u001b[1;32m    189\u001b[0m         \u001b[0;31m# Use line_search to determine a good alpha, and new step xn = xn + alpha*pn\u001b[0m\u001b[0;34m\u001b[0m\u001b[0;34m\u001b[0m\u001b[0m\n",
      "\u001b[0;31mTypeError\u001b[0m: only size-1 arrays can be converted to Python scalars"
     ]
    }
   ],
   "source": [
    "from steepest_descent_script2 import steepest_descent\n",
    "\n",
    "f = lambda x: np.array([\n",
    "    x[0] + np.cos(x[0]*x[1]*x[2])-1,\n",
    "    np.power(1-x[0], .25) + x[1] + 0.05*x[2]**2 - 1,\n",
    "    -x[0]**2 - 0.1*x[1]**2 + x[2] + 1\n",
    "])\n",
    "Jf = lambda x: np.array([\n",
    "    [1 - x[1]*x[2]*np.sin(x[0]*x[1]*x[2]), -x[0]*x[2]*np.sin(x[0]*x[1]*x[2]), -x[0]*x[1]*np.sin(x[0]*x[1]*x[2])],\n",
    "    [-0.25*np.power(1-x[0], -.75), 1, 0.1*x[2]],\n",
    "    [-2*x[0], -0.2*x[1], 1]\n",
    "])\n",
    "# Jfinv = lambda x: np.linalg.inv(Jf(x))\n",
    "Gf = lambda x: np.transpose(Jf(x))@f(x)\n",
    "\n",
    "x0 = np.array([1,1,1])\n",
    "\n",
    "r, _, nf, nj = newton_method_nd(f, Jf, x0, 1e-6, 100, verb=True)\n",
    "print(\"Newton: r = \", r, \"nf = \", nf, \"nj = \", nj)\n",
    "r, _, nf, ng = steepest_descent(f, Gf, x0, 1e-6, 100, verb=True)\n",
    "print(\"Steepest: r = \", r, \"nf = \", nf, \"ng = \", ng)"
   ]
  }
 ],
 "metadata": {
  "kernelspec": {
   "display_name": "base",
   "language": "python",
   "name": "python3"
  },
  "language_info": {
   "codemirror_mode": {
    "name": "ipython",
    "version": 3
   },
   "file_extension": ".py",
   "mimetype": "text/x-python",
   "name": "python",
   "nbconvert_exporter": "python",
   "pygments_lexer": "ipython3",
   "version": "3.9.13"
  },
  "orig_nbformat": 4
 },
 "nbformat": 4,
 "nbformat_minor": 2
}
