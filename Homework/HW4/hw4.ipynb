{
 "cells": [
  {
   "cell_type": "code",
   "execution_count": 1,
   "metadata": {},
   "outputs": [],
   "source": [
    "import numpy as np\n",
    "import matplotlib.pyplot as plt"
   ]
  },
  {
   "attachments": {},
   "cell_type": "markdown",
   "metadata": {},
   "source": [
    "### Q1"
   ]
  },
  {
   "cell_type": "code",
   "execution_count": 14,
   "metadata": {},
   "outputs": [
    {
     "name": "stdout",
     "output_type": "stream",
     "text": [
      "[0.5       0.8660254]\n",
      "33\n"
     ]
    }
   ],
   "source": [
    "f = lambda x,y: 3*x**2 - y**2\n",
    "g = lambda x,y: 3*x*y**2-x**3-1\n",
    "\n",
    "x0 = np.array([1,1])\n",
    "\n",
    "for i in range(100):\n",
    "    x1 = x0 - np.dot(np.array([[1/6, 1/18],[0, 1/6]]), np.array([f(x0[0],x0[1]), g(x0[0],x0[1])]))\n",
    "    if np.linalg.norm(x1-x0) < 1e-10:\n",
    "        break\n",
    "    x0 = x1\n",
    "\n",
    "print(x0)\n",
    "print(i)"
   ]
  },
  {
   "attachments": {},
   "cell_type": "markdown",
   "metadata": {},
   "source": [
    "Using newton's:"
   ]
  },
  {
   "cell_type": "code",
   "execution_count": 12,
   "metadata": {},
   "outputs": [
    {
     "name": "stdout",
     "output_type": "stream",
     "text": [
      "r =  [0.5       0.8660254] nf =  7 nj =  6\n"
     ]
    }
   ],
   "source": [
    "from newton_and_quasinewton_script import newton_method_nd\n",
    "\n",
    "f = lambda x: np.array([3*x[0]**2 - x[1]**2, 3*x[0]*x[1]**2-x[0]**3-1])\n",
    "Jf = lambda x: np.array([[6*x[0], -2*x[1]], [3*x[1]**2-3*x[0]**2, 6*x[0]*x[1]]])\n",
    "x0 = np.array([1,1])\n",
    "\n",
    "r, rn, nf, nj = newton_method_nd(f, Jf, x0, 1e-10, 100)\n",
    "\n",
    "print(\"r = \", r, \"nf = \", nf, \"nj = \", nj)\n"
   ]
  },
  {
   "attachments": {},
   "cell_type": "markdown",
   "metadata": {},
   "source": [
    "### Q2"
   ]
  },
  {
   "cell_type": "code",
   "execution_count": 56,
   "metadata": {},
   "outputs": [
    {
     "name": "stdout",
     "output_type": "stream",
     "text": [
      "Broyden Id: r =  [-1.81626407  0.8373678 ] nf =  22\n"
     ]
    }
   ],
   "source": [
    "from newton_and_quasinewton_script import lazy_newton_method_nd, broyden_method_nd\n",
    "\n",
    "f = lambda x: np.array([x[0]**2 + x[1]**2 - 4, np.exp(x[0]) + x[1] - 1])\n",
    "Jf = lambda x: np.array([[2*x[0], 2*x[1]], [np.exp(x[0]), 1]])\n",
    "Jfinv = lambda x: np.linalg.inv(Jf(x))\n",
    "\n",
    "x0 = np.array([0,0])\n",
    "# r, _, nf, nj = newton_method_nd(f, Jf, x0, 1e-10, 100)\n",
    "# print(\"Newton: r = \", r, \"nf = \", nf, \"nj = \", nj)\n",
    "# r, _, nf, nj = lazy_newton_method_nd(f, Jf, x0, 1e-10, 100, verb=True)\n",
    "# print(\"Lazy: r = \", r, \"nf = \", nf, \"nj = \", nj)\n",
    "# r, _, nf = broyden_method_nd(f, Jf(x0), x0, 1e-10, 100, Bmat='fwd', verb=True)\n",
    "# print(\"Broyden fwd: r = \", r, \"nf = \", nf)\n",
    "# r, _, nf = broyden_method_nd(f, Jfinv(x0), x0, 1e-10, 100, Bmat='inv')\n",
    "# print(\"Broyden inv: r = \", r, \"nf = \", nf)\n",
    "r, _, nf = broyden_method_nd(f, np.eye(2), x0, 1e-10, 100, Bmat='Id')\n",
    "print(\"Broyden Id: r = \", r, \"nf = \", nf)"
   ]
  },
  {
   "attachments": {},
   "cell_type": "markdown",
   "metadata": {},
   "source": [
    "### Q3"
   ]
  },
  {
   "cell_type": "code",
   "execution_count": null,
   "metadata": {},
   "outputs": [],
   "source": []
  }
 ],
 "metadata": {
  "kernelspec": {
   "display_name": "base",
   "language": "python",
   "name": "python3"
  },
  "language_info": {
   "codemirror_mode": {
    "name": "ipython",
    "version": 3
   },
   "file_extension": ".py",
   "mimetype": "text/x-python",
   "name": "python",
   "nbconvert_exporter": "python",
   "pygments_lexer": "ipython3",
   "version": "3.9.13"
  },
  "orig_nbformat": 4
 },
 "nbformat": 4,
 "nbformat_minor": 2
}
